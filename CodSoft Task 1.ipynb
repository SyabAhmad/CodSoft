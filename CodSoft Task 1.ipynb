{
 "cells":[
  {
   "cell_type":"markdown",
   "source":[
    "# CodSoft Task 1"
   ],
   "attachments":{
    
   },
   "metadata":{
    "datalore":{
     "node_id":"S46jWSReIMvYVQ5Nvc8cb1",
     "type":"MD",
     "hide_input_from_viewers":false,
     "hide_output_from_viewers":false,
     "report_properties":{
      "rowId":"jgb5xYp8zsZuUxyUXQR5v0"
     }
    }
   }
  },
  {
   "cell_type":"markdown",
   "source":[
    "### Task 1\n",
    "Use the Titanic dataset to build a model that predicts whether a\n",
    "passenger on the Titanic survived or not. This is a classic beginner\n",
    "project with readily available data."
   ],
   "attachments":{
    
   },
   "metadata":{
    "datalore":{
     "node_id":"CVOHn5AHEhKSg5hhKyZ9Z9",
     "type":"MD",
     "hide_input_from_viewers":false,
     "hide_output_from_viewers":false,
     "report_properties":{
      "rowId":"yKJMXvnukPr08m5uOh5Vi8"
     }
    }
   }
  },
  {
   "cell_type":"markdown",
   "source":[
    "## Importing All Libraries"
   ],
   "attachments":{
    
   },
   "metadata":{
    "datalore":{
     "node_id":"eS5za7zqnCgDrIWxJkPfXu",
     "type":"MD",
     "hide_input_from_viewers":false,
     "hide_output_from_viewers":false,
     "report_properties":{
      "rowId":"PdImtawMxX8fVb5Pv7W7Pb"
     }
    }
   }
  },
  {
   "cell_type":"code",
   "source":[
    "import pandas as pd\n",
    "import numpy as np\n",
    "import matplotlib.pyplot as plt\n",
    "from sklearn.model_selection import train_test_split\n",
    "from sklearn.linear_model import LogisticRegression\n",
    "import seaborn as sns\n",
    "from sklearn.metrics import classification_report, confusion_matrix, accuracy_score"
   ],
   "execution_count":172,
   "outputs":[
    
   ],
   "metadata":{
    "datalore":{
     "node_id":"bNtCUwVzAewedTV7swLQdw",
     "type":"CODE",
     "hide_input_from_viewers":false,
     "hide_output_from_viewers":false,
     "report_properties":{
      "rowId":"iMD4sDfoeID3nR3liyFAiN"
     }
    }
   }
  },
  {
   "cell_type":"code",
   "source":[
    "data = pd.read_csv(\"tested.csv\")\n",
    "print(data)"
   ],
   "execution_count":152,
   "outputs":[
    {
     "name":"stdout",
     "text":[
      "     PassengerId  Survived  Pclass  \\\n",
      "0            892         0       3   \n",
      "1            893         1       3   \n",
      "2            894         0       2   \n",
      "3            895         0       3   \n",
      "4            896         1       3   \n",
      "..           ...       ...     ...   \n",
      "413         1305         0       3   \n",
      "414         1306         1       1   \n",
      "415         1307         0       3   \n",
      "416         1308         0       3   \n",
      "417         1309         0       3   \n",
      "\n",
      "                                             Name     Sex   Age  SibSp  Parch  \\\n",
      "0                                Kelly, Mr. James    male  34.5      0      0   \n",
      "1                Wilkes, Mrs. James (Ellen Needs)  female  47.0      1      0   \n",
      "2                       Myles, Mr. Thomas Francis    male  62.0      0      0   \n",
      "3                                Wirz, Mr. Albert    male  27.0      0      0   \n",
      "4    Hirvonen, Mrs. Alexander (Helga E Lindqvist)  female  22.0      1      1   \n",
      "..                                            ...     ...   ...    ...    ...   \n",
      "413                            Spector, Mr. Woolf    male   NaN      0      0   \n",
      "414                  Oliva y Ocana, Dona. Fermina  female  39.0      0      0   \n",
      "415                  Saether, Mr. Simon Sivertsen    male  38.5      0      0   \n",
      "416                           Ware, Mr. Frederick    male   NaN      0      0   \n",
      "417                      Peter, Master. Michael J    male   NaN      1      1   \n",
      "\n",
      "                 Ticket      Fare Cabin Embarked  \n",
      "0                330911    7.8292   NaN        Q  \n",
      "1                363272    7.0000   NaN        S  \n",
      "2                240276    9.6875   NaN        Q  \n",
      "3                315154    8.6625   NaN        S  \n",
      "4               3101298   12.2875   NaN        S  \n",
      "..                  ...       ...   ...      ...  \n",
      "413           A.5. 3236    8.0500   NaN        S  \n",
      "414            PC 17758  108.9000  C105        C  \n",
      "415  SOTON\/O.Q. 3101262    7.2500   NaN        S  \n",
      "416              359309    8.0500   NaN        S  \n",
      "417                2668   22.3583   NaN        C  \n",
      "\n",
      "[418 rows x 12 columns]\n"
     ],
     "output_type":"stream"
    }
   ],
   "metadata":{
    "datalore":{
     "node_id":"SjzPiiz3bLFzzqf5Km2I0U",
     "type":"CODE",
     "hide_input_from_viewers":false,
     "hide_output_from_viewers":false,
     "report_properties":{
      "rowId":"HjBPc3qPG5vgPA6FxR5Spg"
     }
    }
   }
  },
  {
   "cell_type":"markdown",
   "source":[
    "### Printing Type of Data"
   ],
   "attachments":{
    
   },
   "metadata":{
    "datalore":{
     "node_id":"B5LvG5FWCwJhpsYCoe8fpY",
     "type":"MD",
     "hide_input_from_viewers":false,
     "hide_output_from_viewers":false,
     "report_properties":{
      "rowId":"n8b8gs1T5WYg8xQkSUj4aa"
     }
    }
   }
  },
  {
   "cell_type":"code",
   "source":[
    "print(type(data))"
   ],
   "execution_count":153,
   "outputs":[
    {
     "name":"stdout",
     "text":[
      "<class 'pandas.core.frame.DataFrame'>\n"
     ],
     "output_type":"stream"
    }
   ],
   "metadata":{
    "datalore":{
     "node_id":"bNCp6t4vZUxrBMxuyTh2ns",
     "type":"CODE",
     "hide_input_from_viewers":false,
     "hide_output_from_viewers":false,
     "report_properties":{
      "rowId":"AsS6v2HlPD96hYZWyfS6Qz"
     }
    }
   }
  },
  {
   "cell_type":"markdown",
   "source":[
    "### Printing all columns"
   ],
   "attachments":{
    
   },
   "metadata":{
    "datalore":{
     "node_id":"oiLlRbL8jeDK9fE3Lq37CM",
     "type":"MD",
     "hide_input_from_viewers":false,
     "hide_output_from_viewers":false,
     "report_properties":{
      "rowId":"N0XgBqVcdrBgPnJY3LV8Am"
     }
    }
   }
  },
  {
   "cell_type":"code",
   "source":[
    "print(data.columns)"
   ],
   "execution_count":154,
   "outputs":[
    {
     "name":"stdout",
     "text":[
      "Index(['PassengerId', 'Survived', 'Pclass', 'Name', 'Sex', 'Age', 'SibSp',\n",
      "       'Parch', 'Ticket', 'Fare', 'Cabin', 'Embarked'],\n",
      "      dtype='object')\n"
     ],
     "output_type":"stream"
    }
   ],
   "metadata":{
    "datalore":{
     "node_id":"ZqD0BhyEdVMf94AM6mzaqV",
     "type":"CODE",
     "hide_input_from_viewers":false,
     "hide_output_from_viewers":false,
     "report_properties":{
      "rowId":"IvDLDep17XPVgZB2RnaD9o"
     }
    }
   }
  },
  {
   "cell_type":"markdown",
   "source":[
    "### checking for null etc values"
   ],
   "attachments":{
    
   },
   "metadata":{
    "datalore":{
     "node_id":"cPyShskr3QRboHYVGSUxBf",
     "type":"MD",
     "hide_input_from_viewers":false,
     "hide_output_from_viewers":false,
     "report_properties":{
      "rowId":"wvujrqWiyY6ZXay6bdHZ0V"
     }
    }
   }
  },
  {
   "cell_type":"code",
   "source":[
    "print(data.isna)\n",
    "print(data.isnull)"
   ],
   "execution_count":155,
   "outputs":[
    {
     "name":"stdout",
     "text":[
      "<bound method DataFrame.isna of      PassengerId  Survived  Pclass  \\\n",
      "0            892         0       3   \n",
      "1            893         1       3   \n",
      "2            894         0       2   \n",
      "3            895         0       3   \n",
      "4            896         1       3   \n",
      "..           ...       ...     ...   \n",
      "413         1305         0       3   \n",
      "414         1306         1       1   \n",
      "415         1307         0       3   \n",
      "416         1308         0       3   \n",
      "417         1309         0       3   \n",
      "\n",
      "                                             Name     Sex   Age  SibSp  Parch  \\\n",
      "0                                Kelly, Mr. James    male  34.5      0      0   \n",
      "1                Wilkes, Mrs. James (Ellen Needs)  female  47.0      1      0   \n",
      "2                       Myles, Mr. Thomas Francis    male  62.0      0      0   \n",
      "3                                Wirz, Mr. Albert    male  27.0      0      0   \n",
      "4    Hirvonen, Mrs. Alexander (Helga E Lindqvist)  female  22.0      1      1   \n",
      "..                                            ...     ...   ...    ...    ...   \n",
      "413                            Spector, Mr. Woolf    male   NaN      0      0   \n",
      "414                  Oliva y Ocana, Dona. Fermina  female  39.0      0      0   \n",
      "415                  Saether, Mr. Simon Sivertsen    male  38.5      0      0   \n",
      "416                           Ware, Mr. Frederick    male   NaN      0      0   \n",
      "417                      Peter, Master. Michael J    male   NaN      1      1   \n",
      "\n",
      "                 Ticket      Fare Cabin Embarked  \n",
      "0                330911    7.8292   NaN        Q  \n",
      "1                363272    7.0000   NaN        S  \n",
      "2                240276    9.6875   NaN        Q  \n",
      "3                315154    8.6625   NaN        S  \n",
      "4               3101298   12.2875   NaN        S  \n",
      "..                  ...       ...   ...      ...  \n",
      "413           A.5. 3236    8.0500   NaN        S  \n",
      "414            PC 17758  108.9000  C105        C  \n",
      "415  SOTON\/O.Q. 3101262    7.2500   NaN        S  \n",
      "416              359309    8.0500   NaN        S  \n",
      "417                2668   22.3583   NaN        C  \n",
      "\n",
      "[418 rows x 12 columns]>\n",
      "<bound method DataFrame.isnull of      PassengerId  Survived  Pclass  \\\n",
      "0            892         0       3   \n",
      "1            893         1       3   \n",
      "2            894         0       2   \n",
      "3            895         0       3   \n",
      "4            896         1       3   \n",
      "..           ...       ...     ...   \n",
      "413         1305         0       3   \n",
      "414         1306         1       1   \n",
      "415         1307         0       3   \n",
      "416         1308         0       3   \n",
      "417         1309         0       3   \n",
      "\n",
      "                                             Name     Sex   Age  SibSp  Parch  \\\n",
      "0                                Kelly, Mr. James    male  34.5      0      0   \n",
      "1                Wilkes, Mrs. James (Ellen Needs)  female  47.0      1      0   \n",
      "2                       Myles, Mr. Thomas Francis    male  62.0      0      0   \n",
      "3                                Wirz, Mr. Albert    male  27.0      0      0   \n",
      "4    Hirvonen, Mrs. Alexander (Helga E Lindqvist)  female  22.0      1      1   \n",
      "..                                            ...     ...   ...    ...    ...   \n",
      "413                            Spector, Mr. Woolf    male   NaN      0      0   \n",
      "414                  Oliva y Ocana, Dona. Fermina  female  39.0      0      0   \n",
      "415                  Saether, Mr. Simon Sivertsen    male  38.5      0      0   \n",
      "416                           Ware, Mr. Frederick    male   NaN      0      0   \n",
      "417                      Peter, Master. Michael J    male   NaN      1      1   \n",
      "\n",
      "                 Ticket      Fare Cabin Embarked  \n",
      "0                330911    7.8292   NaN        Q  \n",
      "1                363272    7.0000   NaN        S  \n",
      "2                240276    9.6875   NaN        Q  \n",
      "3                315154    8.6625   NaN        S  \n",
      "4               3101298   12.2875   NaN        S  \n",
      "..                  ...       ...   ...      ...  \n",
      "413           A.5. 3236    8.0500   NaN        S  \n",
      "414            PC 17758  108.9000  C105        C  \n",
      "415  SOTON\/O.Q. 3101262    7.2500   NaN        S  \n",
      "416              359309    8.0500   NaN        S  \n",
      "417                2668   22.3583   NaN        C  \n",
      "\n",
      "[418 rows x 12 columns]>\n"
     ],
     "output_type":"stream"
    }
   ],
   "metadata":{
    "datalore":{
     "node_id":"NCVFby3V7q0XxWoJWkDSTO",
     "type":"CODE",
     "hide_input_from_viewers":false,
     "hide_output_from_viewers":false,
     "report_properties":{
      "rowId":"JyHtZEVzlxW4lXXArBP9UN"
     }
    }
   }
  },
  {
   "cell_type":"markdown",
   "source":[
    "### Removing un-needed data\n",
    "#### 1- Cabin\n",
    "#### 2- Name\n",
    "#### 3- PassangerID"
   ],
   "attachments":{
    
   },
   "metadata":{
    "datalore":{
     "node_id":"R22p65LEDZXrUE6MDzDcTo",
     "type":"MD",
     "hide_input_from_viewers":false,
     "hide_output_from_viewers":false,
     "report_properties":{
      "rowId":"rN612hc4TU6IGahNSUcoq4"
     }
    }
   }
  },
  {
   "cell_type":"code",
   "source":[
    "data = data[['Survived', 'Pclass', 'Sex', 'Age', 'SibSp','Parch', 'Ticket', 'Fare', 'Embarked']]\n",
    "print(type(data))\n",
    "print(data.columns)\n",
    "\n",
    "# Target Column (Class)\n",
    "target = data['Survived']\n",
    "\n",
    "print(target.head(4))"
   ],
   "execution_count":156,
   "outputs":[
    {
     "name":"stdout",
     "text":[
      "<class 'pandas.core.frame.DataFrame'>\n",
      "Index(['Survived', 'Pclass', 'Sex', 'Age', 'SibSp', 'Parch', 'Ticket', 'Fare',\n",
      "       'Embarked'],\n",
      "      dtype='object')\n",
      "0    0\n",
      "1    1\n",
      "2    0\n",
      "3    0\n",
      "Name: Survived, dtype: int64\n"
     ],
     "output_type":"stream"
    }
   ],
   "metadata":{
    "datalore":{
     "node_id":"jHTanW9zccTMle7OLPPc9w",
     "type":"CODE",
     "hide_input_from_viewers":false,
     "hide_output_from_viewers":false,
     "report_properties":{
      "rowId":"WrjNyf92k0QN2SP36urHwU"
     }
    }
   }
  },
  {
   "cell_type":"markdown",
   "source":[
    "### Ploting"
   ],
   "attachments":{
    
   },
   "metadata":{
    "datalore":{
     "node_id":"CnK1yh4MheakrClqo6Y01E",
     "type":"MD",
     "hide_input_from_viewers":false,
     "hide_output_from_viewers":false,
     "report_properties":{
      "rowId":"P9R2Jm38r5uByP7YMk3vY0"
     }
    }
   }
  },
  {
   "cell_type":"code",
   "source":[
    "# how many survived\n",
    "data.plot()\n",
    "plt.show"
   ],
   "execution_count":157,
   "outputs":[
    {
     "data":{
      "text\/plain":[
       "<function matplotlib.pyplot.show(close=None, block=None)>"
      ]
     },
     "metadata":{
      
     },
     "output_type":"display_data"
    },
    {
     "data":{
      "image\/png":"[encoded data removed]"
     },
     "metadata":{
      "image\/png":{
       
      }
     },
     "output_type":"display_data"
    }
   ],
   "metadata":{
    "datalore":{
     "node_id":"vK9EJVdHAawZQrnM18XBEb",
     "type":"CODE",
     "hide_input_from_viewers":false,
     "hide_output_from_viewers":false,
     "report_properties":{
      "rowId":"5LXDX0wuxDqBRKNvfiSVe4"
     }
    }
   }
  },
  {
   "cell_type":"markdown",
   "source":[
    "### According to Survived and Sex\/Gender"
   ],
   "attachments":{
    
   },
   "metadata":{
    "datalore":{
     "node_id":"y0SbZDrB3WuAzR9289jO3c",
     "type":"MD",
     "hide_input_from_viewers":false,
     "hide_output_from_viewers":false,
     "report_properties":{
      "rowId":"OFW3Eh1nnM6UHwqcKAsLn7"
     }
    }
   }
  },
  {
   "cell_type":"code",
   "source":[
    "sns.set_style(\"whitegrid\")\n",
    "sns.set_palette(\"husl\")\n",
    "\n",
    "sns.countplot(x=\"Survived\", hue=\"Sex\", data=data)\n",
    "\n",
    "plt.show()"
   ],
   "execution_count":158,
   "outputs":[
    {
     "data":{
      "image\/png":"[encoded data removed]"
     },
     "metadata":{
      "image\/png":{
       
      }
     },
     "output_type":"display_data"
    }
   ],
   "metadata":{
    "datalore":{
     "node_id":"zjBpCMUTuMSoP1h1KXpC6V",
     "type":"CODE",
     "hide_input_from_viewers":false,
     "hide_output_from_viewers":false,
     "report_properties":{
      "rowId":"8EmSkOjAlvxN2XxyKQ0yrE"
     }
    }
   }
  },
  {
   "cell_type":"markdown",
   "source":[
    "### Missing Data using HeatMap"
   ],
   "attachments":{
    
   },
   "metadata":{
    "datalore":{
     "node_id":"v3nyZBVTYqodJWcnZlWZ9s",
     "type":"MD",
     "hide_input_from_viewers":false,
     "hide_output_from_viewers":false,
     "report_properties":{
      "rowId":"pZSLyo2NHKipGHBNs5hjMK"
     }
    }
   }
  },
  {
   "cell_type":"code",
   "source":[
    "sns.heatmap(data.isnull(), cmap=\"plasma\")\n",
    "plt.show()"
   ],
   "execution_count":159,
   "outputs":[
    {
     "data":{
      "image\/png":"[encoded data removed]"
     },
     "metadata":{
      "image\/png":{
       
      }
     },
     "output_type":"display_data"
    }
   ],
   "metadata":{
    "datalore":{
     "node_id":"envNi1LNXtEFIFXwdWQmlf",
     "type":"CODE",
     "hide_input_from_viewers":false,
     "hide_output_from_viewers":false,
     "report_properties":{
      "rowId":"cNC7Sqkd6N5JJhA5NSGrMM"
     }
    }
   }
  },
  {
   "cell_type":"markdown",
   "source":[
    "### To Check according to PClass"
   ],
   "attachments":{
    
   },
   "metadata":{
    "datalore":{
     "node_id":"5Jcl5xLr3MnaFJx5ZXhxNZ",
     "type":"MD",
     "hide_input_from_viewers":false,
     "hide_output_from_viewers":false,
     "report_properties":{
      "rowId":"jtKWNe8ARkqgDgE1bgRtMM"
     }
    }
   }
  },
  {
   "cell_type":"code",
   "source":[
    "sns.countplot(x=\"Survived\", hue=\"Pclass\", data=data)\n",
    "plt.show()"
   ],
   "execution_count":160,
   "outputs":[
    {
     "data":{
      "image\/png":"[encoded data removed]"
     },
     "metadata":{
      "image\/png":{
       
      }
     },
     "output_type":"display_data"
    }
   ],
   "metadata":{
    "datalore":{
     "node_id":"iS5I6QnnLCkSXFGKz3qibx",
     "type":"CODE",
     "hide_input_from_viewers":false,
     "hide_output_from_viewers":false,
     "report_properties":{
      "rowId":"xBQ1rrHdG8FPwJCVRtj5QQ"
     }
    }
   }
  },
  {
   "cell_type":"markdown",
   "source":[
    "### Removing irrevelent data"
   ],
   "attachments":{
    
   },
   "metadata":{
    "datalore":{
     "node_id":"MQXWYgvkLivqSW9AShhHQ8",
     "type":"MD",
     "hide_input_from_viewers":false,
     "hide_output_from_viewers":false,
     "report_properties":{
      "rowId":"tRvtpDhHygZ3Q1TEcDEPO1"
     }
    }
   }
  },
  {
   "cell_type":"code",
   "source":[
    "# Calculate the mean of non-zero and non-NaN values in the \"Age\" column\n",
    "mean_age = np.nanmean(data[\"Age\"][data[\"Age\"] != 0])\n",
    "\n",
    "# Replace missing (NaN) values with the calculated mean\n",
    "data[\"Age\"].fillna(mean_age, inplace=True)\n",
    "\n",
    "# Replace zero values with the calculated mean\n",
    "data[\"Age\"].replace(0, mean_age, inplace=True)\n",
    "\n",
    "print(\"Mean of non-zero and non-NaN values:\", mean_age)\n",
    "print(data.Age.isnull().sum())\n",
    "print(data.Fare.isnull().sum())\n",
    "\n",
    "mean_fare = np.nanmean(data[\"Fare\"][data[\"Fare\"] != 0])\n",
    "data[\"Fare\"].replace(0,mean_fare, inplace=True)\n",
    "\n",
    "print(f\"Mean_Fare:   {mean_fare}\")\n",
    "print(data.Fare.isnull().sum())\n",
    "\n",
    "data.Fare.fillna(mean_fare, inplace= True)\n",
    "\n",
    "print(data.Fare.isnull().sum())"
   ],
   "execution_count":161,
   "outputs":[
    {
     "name":"stdout",
     "text":[
      "Mean of non-zero and non-NaN values: 30.272590361445783\n",
      "0\n",
      "1\n",
      "Mean_Fare:   35.798885783132526\n",
      "1\n",
      "0\n"
     ],
     "output_type":"stream"
    }
   ],
   "metadata":{
    "datalore":{
     "node_id":"OY1G0vzxCxSCSYXE0uz9bn",
     "type":"CODE",
     "hide_input_from_viewers":true,
     "hide_output_from_viewers":true
    }
   }
  },
  {
   "cell_type":"code",
   "source":[
    "print(data.columns)\n",
    "\n",
    "# finalData = data[[\"Sex\", \"Age\", \"Parch\", \"Ticket\", \"Fare\"]]\n",
    "# targetData = data[\"Survived\"]\n",
    "\n",
    "print(data)\n",
    "data[\"Sex\"] = data[\"Sex\"].replace(\"male\",1)\n",
    "data[\"Sex\"] = data[\"Sex\"].replace(\"female\",0)\n",
    "\n",
    "print(data)\n",
    "finalData = data.drop(columns=[\"Survived\", \"SibSp\", \"Embarked\", \"Ticket\"])\n",
    "\n",
    "# Filling missing values\n",
    "\n",
    "targetData = data[\"Survived\"]\n",
    "\n",
    "# print(finalData)\n",
    "# print(targetData)\n",
    "\n",
    "print(data[\"Ticket\"])"
   ],
   "execution_count":162,
   "outputs":[
    {
     "name":"stdout",
     "text":[
      "Index(['Survived', 'Pclass', 'Sex', 'Age', 'SibSp', 'Parch', 'Ticket', 'Fare',\n",
      "       'Embarked'],\n",
      "      dtype='object')\n",
      "     Survived  Pclass     Sex       Age  SibSp  Parch              Ticket  \\\n",
      "0           0       3    male  34.50000      0      0              330911   \n",
      "1           1       3  female  47.00000      1      0              363272   \n",
      "2           0       2    male  62.00000      0      0              240276   \n",
      "3           0       3    male  27.00000      0      0              315154   \n",
      "4           1       3  female  22.00000      1      1             3101298   \n",
      "..        ...     ...     ...       ...    ...    ...                 ...   \n",
      "413         0       3    male  30.27259      0      0           A.5. 3236   \n",
      "414         1       1  female  39.00000      0      0            PC 17758   \n",
      "415         0       3    male  38.50000      0      0  SOTON\/O.Q. 3101262   \n",
      "416         0       3    male  30.27259      0      0              359309   \n",
      "417         0       3    male  30.27259      1      1                2668   \n",
      "\n",
      "         Fare Embarked  \n",
      "0      7.8292        Q  \n",
      "1      7.0000        S  \n",
      "2      9.6875        Q  \n",
      "3      8.6625        S  \n",
      "4     12.2875        S  \n",
      "..        ...      ...  \n",
      "413    8.0500        S  \n",
      "414  108.9000        C  \n",
      "415    7.2500        S  \n",
      "416    8.0500        S  \n",
      "417   22.3583        C  \n",
      "\n",
      "[418 rows x 9 columns]\n",
      "     Survived  Pclass  Sex       Age  SibSp  Parch              Ticket  \\\n",
      "0           0       3    1  34.50000      0      0              330911   \n",
      "1           1       3    0  47.00000      1      0              363272   \n",
      "2           0       2    1  62.00000      0      0              240276   \n",
      "3           0       3    1  27.00000      0      0              315154   \n",
      "4           1       3    0  22.00000      1      1             3101298   \n",
      "..        ...     ...  ...       ...    ...    ...                 ...   \n",
      "413         0       3    1  30.27259      0      0           A.5. 3236   \n",
      "414         1       1    0  39.00000      0      0            PC 17758   \n",
      "415         0       3    1  38.50000      0      0  SOTON\/O.Q. 3101262   \n",
      "416         0       3    1  30.27259      0      0              359309   \n",
      "417         0       3    1  30.27259      1      1                2668   \n",
      "\n",
      "         Fare Embarked  \n",
      "0      7.8292        Q  \n",
      "1      7.0000        S  \n",
      "2      9.6875        Q  \n",
      "3      8.6625        S  \n",
      "4     12.2875        S  \n",
      "..        ...      ...  \n",
      "413    8.0500        S  \n",
      "414  108.9000        C  \n",
      "415    7.2500        S  \n",
      "416    8.0500        S  \n",
      "417   22.3583        C  \n",
      "\n",
      "[418 rows x 9 columns]\n",
      "0                  330911\n",
      "1                  363272\n",
      "2                  240276\n",
      "3                  315154\n",
      "4                 3101298\n",
      "              ...        \n",
      "413             A.5. 3236\n",
      "414              PC 17758\n",
      "415    SOTON\/O.Q. 3101262\n",
      "416                359309\n",
      "417                  2668\n",
      "Name: Ticket, Length: 418, dtype: object\n"
     ],
     "output_type":"stream"
    }
   ],
   "metadata":{
    "datalore":{
     "node_id":"kTDcWc1ja3jmVAGfmbrx7I",
     "type":"CODE",
     "hide_input_from_viewers":false,
     "hide_output_from_viewers":false,
     "report_properties":{
      "rowId":"y2XMMDhCDcONQiFSFux9Oo"
     }
    }
   }
  },
  {
   "cell_type":"markdown",
   "source":[
    "### Spliting Data"
   ],
   "attachments":{
    
   },
   "metadata":{
    "datalore":{
     "node_id":"rO9Zqe4VbVbMCLBZahC2to",
     "type":"MD",
     "hide_input_from_viewers":true,
     "hide_output_from_viewers":false,
     "report_properties":{
      "rowId":"0jvefpEGS3yaXas4WKStE0"
     }
    }
   }
  },
  {
   "cell_type":"code",
   "source":[
    "\n",
    "XTrain, XTest, YTrain, YTest = train_test_split(finalData, targetData, test_size=20, random_state=42, shuffle=True)"
   ],
   "execution_count":163,
   "outputs":[
    
   ],
   "metadata":{
    "datalore":{
     "node_id":"n0aHMagMqTD3B6QIwW1llI",
     "type":"CODE",
     "hide_input_from_viewers":false,
     "hide_output_from_viewers":true,
     "report_properties":{
      "rowId":"x1aM3JmXN6KKIvixtG1BB6"
     }
    }
   }
  },
  {
   "cell_type":"markdown",
   "source":[
    "### Creating Instence of Logestic Regression"
   ],
   "attachments":{
    
   },
   "metadata":{
    "datalore":{
     "node_id":"FZtrZ4IW9iE0YXXAVg4rKP",
     "type":"MD",
     "hide_input_from_viewers":true,
     "hide_output_from_viewers":false,
     "report_properties":{
      "rowId":"os6td3Gd98rumO8nP8MH5a"
     }
    }
   }
  },
  {
   "cell_type":"code",
   "source":[
    "import re\n",
    "\n",
    "regressor = LogisticRegression()\n",
    "# print(data.Ticket)\n",
    "\n",
    "# data.Ticket = data.Ticket.str.replace(\"SOTON\/O.Q.\", \"\", regex=False)\n",
    "\n"
   ],
   "execution_count":164,
   "outputs":[
    
   ],
   "metadata":{
    "datalore":{
     "node_id":"rUdsorsMWexVOQD4V1x8tT",
     "type":"CODE",
     "hide_input_from_viewers":false,
     "hide_output_from_viewers":true,
     "report_properties":{
      "rowId":"PJDOKKwEqXxMaw4fnoGneK"
     }
    }
   }
  },
  {
   "cell_type":"markdown",
   "source":[
    "### So to solve this issue we need to remove that text from data"
   ],
   "attachments":{
    
   },
   "metadata":{
    "datalore":{
     "node_id":"88ktDsEmYHBPdyc365OuF2",
     "type":"MD",
     "hide_input_from_viewers":true,
     "hide_output_from_viewers":false,
     "report_properties":{
      "rowId":"EfViBz72cIpbGnAUi2WkHE"
     }
    }
   }
  },
  {
   "cell_type":"code",
   "source":[
    "regressor.fit(XTrain, YTrain)"
   ],
   "execution_count":165,
   "outputs":[
    {
     "data":{
      "text\/html":[
       "<style>#sk-container-id-1 {color: black;background-color: white;}#sk-container-id-1 pre{padding: 0;}#sk-container-id-1 div.sk-toggleable {background-color: white;}#sk-container-id-1 label.sk-toggleable__label {cursor: pointer;display: block;width: 100%;margin-bottom: 0;padding: 0.3em;box-sizing: border-box;text-align: center;}#sk-container-id-1 label.sk-toggleable__label-arrow:before {content: \"▸\";float: left;margin-right: 0.25em;color: #696969;}#sk-container-id-1 label.sk-toggleable__label-arrow:hover:before {color: black;}#sk-container-id-1 div.sk-estimator:hover label.sk-toggleable__label-arrow:before {color: black;}#sk-container-id-1 div.sk-toggleable__content {max-height: 0;max-width: 0;overflow: hidden;text-align: left;background-color: #f0f8ff;}#sk-container-id-1 div.sk-toggleable__content pre {margin: 0.2em;color: black;border-radius: 0.25em;background-color: #f0f8ff;}#sk-container-id-1 input.sk-toggleable__control:checked~div.sk-toggleable__content {max-height: 200px;max-width: 100%;overflow: auto;}#sk-container-id-1 input.sk-toggleable__control:checked~label.sk-toggleable__label-arrow:before {content: \"▾\";}#sk-container-id-1 div.sk-estimator input.sk-toggleable__control:checked~label.sk-toggleable__label {background-color: #d4ebff;}#sk-container-id-1 div.sk-label input.sk-toggleable__control:checked~label.sk-toggleable__label {background-color: #d4ebff;}#sk-container-id-1 input.sk-hidden--visually {border: 0;clip: rect(1px 1px 1px 1px);clip: rect(1px, 1px, 1px, 1px);height: 1px;margin: -1px;overflow: hidden;padding: 0;position: absolute;width: 1px;}#sk-container-id-1 div.sk-estimator {font-family: monospace;background-color: #f0f8ff;border: 1px dotted black;border-radius: 0.25em;box-sizing: border-box;margin-bottom: 0.5em;}#sk-container-id-1 div.sk-estimator:hover {background-color: #d4ebff;}#sk-container-id-1 div.sk-parallel-item::after {content: \"\";width: 100%;border-bottom: 1px solid gray;flex-grow: 1;}#sk-container-id-1 div.sk-label:hover label.sk-toggleable__label {background-color: #d4ebff;}#sk-container-id-1 div.sk-serial::before {content: \"\";position: absolute;border-left: 1px solid gray;box-sizing: border-box;top: 0;bottom: 0;left: 50%;z-index: 0;}#sk-container-id-1 div.sk-serial {display: flex;flex-direction: column;align-items: center;background-color: white;padding-right: 0.2em;padding-left: 0.2em;position: relative;}#sk-container-id-1 div.sk-item {position: relative;z-index: 1;}#sk-container-id-1 div.sk-parallel {display: flex;align-items: stretch;justify-content: center;background-color: white;position: relative;}#sk-container-id-1 div.sk-item::before, #sk-container-id-1 div.sk-parallel-item::before {content: \"\";position: absolute;border-left: 1px solid gray;box-sizing: border-box;top: 0;bottom: 0;left: 50%;z-index: -1;}#sk-container-id-1 div.sk-parallel-item {display: flex;flex-direction: column;z-index: 1;position: relative;background-color: white;}#sk-container-id-1 div.sk-parallel-item:first-child::after {align-self: flex-end;width: 50%;}#sk-container-id-1 div.sk-parallel-item:last-child::after {align-self: flex-start;width: 50%;}#sk-container-id-1 div.sk-parallel-item:only-child::after {width: 0;}#sk-container-id-1 div.sk-dashed-wrapped {border: 1px dashed gray;margin: 0 0.4em 0.5em 0.4em;box-sizing: border-box;padding-bottom: 0.4em;background-color: white;}#sk-container-id-1 div.sk-label label {font-family: monospace;font-weight: bold;display: inline-block;line-height: 1.2em;}#sk-container-id-1 div.sk-label-container {text-align: center;}#sk-container-id-1 div.sk-container {\/* jupyter's `normalize.less` sets `[hidden] { display: none; }` but bootstrap.min.css set `[hidden] { display: none !important; }` so we also need the `!important` here to be able to override the default hidden behavior on the sphinx rendered scikit-learn.org. See: https:\/\/github.com\/scikit-learn\/scikit-learn\/issues\/21755 *\/display: inline-block !important;position: relative;}#sk-container-id-1 div.sk-text-repr-fallback {display: none;}<\/style><div id=\"sk-container-id-1\" class=\"sk-top-container\"><div class=\"sk-text-repr-fallback\"><pre>LogisticRegression()<\/pre><b>In a Jupyter environment, please rerun this cell to show the HTML representation or trust the notebook. <br \/>On GitHub, the HTML representation is unable to render, please try loading this page with nbviewer.org.<\/b><\/div><div class=\"sk-container\" hidden><div class=\"sk-item\"><div class=\"sk-estimator sk-toggleable\"><input class=\"sk-toggleable__control sk-hidden--visually\" id=\"sk-estimator-id-1\" type=\"checkbox\" checked><label for=\"sk-estimator-id-1\" class=\"sk-toggleable__label sk-toggleable__label-arrow\">LogisticRegression<\/label><div class=\"sk-toggleable__content\"><pre>LogisticRegression()<\/pre><\/div><\/div><\/div><\/div><\/div>"
      ]
     },
     "metadata":{
      
     },
     "output_type":"display_data"
    }
   ],
   "metadata":{
    "datalore":{
     "node_id":"kZZATSWrvXHqVqehdl7A5w",
     "type":"CODE",
     "hide_input_from_viewers":false,
     "hide_output_from_viewers":false,
     "report_properties":{
      "rowId":"lpEC8RqvKE7TpY40hygSTC"
     }
    }
   }
  },
  {
   "cell_type":"code",
   "source":[
    "predection = regressor.predict(XTest)"
   ],
   "execution_count":169,
   "outputs":[
    
   ],
   "metadata":{
    "datalore":{
     "node_id":"bjH2vH8KmVC89JQQmqsnRe",
     "type":"CODE",
     "hide_input_from_viewers":false,
     "hide_output_from_viewers":true,
     "report_properties":{
      "rowId":"2gx2byxqDtg0hihn5qXwoW"
     }
    }
   }
  },
  {
   "cell_type":"markdown",
   "source":[
    "Now will make a COnfusion Matrix and Clasification report"
   ],
   "attachments":{
    
   },
   "metadata":{
    "datalore":{
     "node_id":"CJWxx89GLhdHP8yqeqfL84",
     "type":"MD",
     "hide_input_from_viewers":true,
     "hide_output_from_viewers":false,
     "report_properties":{
      "rowId":"CRjbIKScbACAPzrLEgE7Tw",
      "x":0,
      "relativeY":0,
      "width":1,
      "isDynamicHeight":true
     }
    }
   }
  },
  {
   "cell_type":"code",
   "source":[
    "classification_report(YTest, predection)"
   ],
   "execution_count":170,
   "outputs":[
    {
     "data":{
      "text\/plain":[
       "'              precision    recall  f1-score   support\\n\\n           0       1.00      1.00      1.00        12\\n           1       1.00      1.00      1.00         8\\n\\n    accuracy                           1.00        20\\n   macro avg       1.00      1.00      1.00        20\\nweighted avg       1.00      1.00      1.00        20\\n'"
      ]
     },
     "metadata":{
      
     },
     "output_type":"display_data"
    }
   ],
   "metadata":{
    "datalore":{
     "node_id":"TawVUX1pOptdLqfITOkzBl",
     "type":"CODE",
     "hide_input_from_viewers":false,
     "hide_output_from_viewers":false,
     "report_properties":{
      "rowId":"S9FcrFIhSuCyKxmErdYr0q"
     }
    }
   }
  },
  {
   "cell_type":"code",
   "source":[
    "confusion_matrix(YTest, predection)"
   ],
   "execution_count":171,
   "outputs":[
    {
     "data":{
      "text\/html":[
       "<pre>array([[12,  0],\n",
       "       [ 0,  8]])<\/pre>"
      ]
     },
     "metadata":{
      
     },
     "output_type":"display_data"
    }
   ],
   "metadata":{
    "datalore":{
     "node_id":"IJeGy1n02fc8UL4SFuLwQC",
     "type":"CODE",
     "hide_input_from_viewers":true,
     "hide_output_from_viewers":true
    }
   }
  },
  {
   "cell_type":"code",
   "source":[
    "accuracy_score(YTest, predection)"
   ],
   "execution_count":177,
   "outputs":[
    {
     "data":{
      "text\/plain":[
       "1.0"
      ]
     },
     "metadata":{
      
     },
     "output_type":"display_data"
    }
   ],
   "metadata":{
    "datalore":{
     "node_id":"1AsvjkBe4J6Qy1Le9biNI6",
     "type":"CODE",
     "hide_input_from_viewers":false,
     "hide_output_from_viewers":false,
     "report_properties":{
      "rowId":"4sv4wp9oEj81BWyThviPLX"
     }
    }
   }
  }
 ],
 "metadata":{
  "kernelspec":{
   "display_name":"Python",
   "language":"python",
   "name":"python"
  },
  "datalore":{
   "computation_mode":"JUPYTER",
   "packages":[
    
   ],
   "report_row_ids":[
    "jgb5xYp8zsZuUxyUXQR5v0",
    "yKJMXvnukPr08m5uOh5Vi8",
    "PdImtawMxX8fVb5Pv7W7Pb",
    "iMD4sDfoeID3nR3liyFAiN",
    "HjBPc3qPG5vgPA6FxR5Spg",
    "n8b8gs1T5WYg8xQkSUj4aa",
    "AsS6v2HlPD96hYZWyfS6Qz",
    "N0XgBqVcdrBgPnJY3LV8Am",
    "IvDLDep17XPVgZB2RnaD9o",
    "wvujrqWiyY6ZXay6bdHZ0V",
    "JyHtZEVzlxW4lXXArBP9UN",
    "rN612hc4TU6IGahNSUcoq4",
    "WrjNyf92k0QN2SP36urHwU",
    "P9R2Jm38r5uByP7YMk3vY0",
    "5LXDX0wuxDqBRKNvfiSVe4",
    "OFW3Eh1nnM6UHwqcKAsLn7",
    "8EmSkOjAlvxN2XxyKQ0yrE",
    "pZSLyo2NHKipGHBNs5hjMK",
    "cNC7Sqkd6N5JJhA5NSGrMM",
    "jtKWNe8ARkqgDgE1bgRtMM",
    "xBQ1rrHdG8FPwJCVRtj5QQ",
    "tRvtpDhHygZ3Q1TEcDEPO1",
    "y2XMMDhCDcONQiFSFux9Oo",
    "0jvefpEGS3yaXas4WKStE0",
    "x1aM3JmXN6KKIvixtG1BB6",
    "os6td3Gd98rumO8nP8MH5a",
    "PJDOKKwEqXxMaw4fnoGneK",
    "EfViBz72cIpbGnAUi2WkHE",
    "lpEC8RqvKE7TpY40hygSTC",
    "2gx2byxqDtg0hihn5qXwoW",
    "CRjbIKScbACAPzrLEgE7Tw",
    "S9FcrFIhSuCyKxmErdYr0q",
    "4sv4wp9oEj81BWyThviPLX"
   ],
   "version":3
  }
 },
 "nbformat":4,
 "nbformat_minor":4
}