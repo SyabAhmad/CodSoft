{
 "cells": [
  {
   "cell_type": "code",
   "execution_count": 1,
   "id": "f7d1141a",
   "metadata": {},
   "outputs": [],
   "source": [
    "import pandas as pd\n",
    "import numpy as np\n",
    "from sklearn.model_selection import train_test_split\n",
    "from sklearn.linear_model import LinearRegression\n",
    "from sklearn.metrics import mean_absolute_error, accuracy_score\n",
    "from sklearn.feature_extraction import FeatureHasher\n",
    "import re\n",
    "import matplotlib.pyplot as plt\n",
    "from sklearn.preprocessing import LabelEncoder"
   ]
  },
  {
   "cell_type": "code",
   "execution_count": 2,
   "id": "85d0403c",
   "metadata": {},
   "outputs": [],
   "source": [
    "data = pd.read_csv(\"IMDb Movies India.csv\", delimiter=\",\", encoding=\"iso-8859-1\")\n"
   ]
  },
  {
   "cell_type": "code",
   "execution_count": 3,
   "id": "90fd7f36",
   "metadata": {},
   "outputs": [
    {
     "data": {
      "text/html": [
       "<div>\n",
       "<style scoped>\n",
       "    .dataframe tbody tr th:only-of-type {\n",
       "        vertical-align: middle;\n",
       "    }\n",
       "\n",
       "    .dataframe tbody tr th {\n",
       "        vertical-align: top;\n",
       "    }\n",
       "\n",
       "    .dataframe thead th {\n",
       "        text-align: right;\n",
       "    }\n",
       "</style>\n",
       "<table border=\"1\" class=\"dataframe\">\n",
       "  <thead>\n",
       "    <tr style=\"text-align: right;\">\n",
       "      <th></th>\n",
       "      <th>Name</th>\n",
       "      <th>Year</th>\n",
       "      <th>Duration</th>\n",
       "      <th>Genre</th>\n",
       "      <th>Rating</th>\n",
       "      <th>Votes</th>\n",
       "      <th>Director</th>\n",
       "      <th>Actor 1</th>\n",
       "      <th>Actor 2</th>\n",
       "      <th>Actor 3</th>\n",
       "    </tr>\n",
       "  </thead>\n",
       "  <tbody>\n",
       "    <tr>\n",
       "      <th>0</th>\n",
       "      <td></td>\n",
       "      <td>NaN</td>\n",
       "      <td>NaN</td>\n",
       "      <td>Drama</td>\n",
       "      <td>NaN</td>\n",
       "      <td>NaN</td>\n",
       "      <td>J.S. Randhawa</td>\n",
       "      <td>Manmauji</td>\n",
       "      <td>Birbal</td>\n",
       "      <td>Rajendra Bhatia</td>\n",
       "    </tr>\n",
       "    <tr>\n",
       "      <th>1</th>\n",
       "      <td>#Gadhvi (He thought he was Gandhi)</td>\n",
       "      <td>(2019)</td>\n",
       "      <td>109 min</td>\n",
       "      <td>Drama</td>\n",
       "      <td>7.0</td>\n",
       "      <td>8</td>\n",
       "      <td>Gaurav Bakshi</td>\n",
       "      <td>Rasika Dugal</td>\n",
       "      <td>Vivek Ghamande</td>\n",
       "      <td>Arvind Jangid</td>\n",
       "    </tr>\n",
       "    <tr>\n",
       "      <th>2</th>\n",
       "      <td>#Homecoming</td>\n",
       "      <td>(2021)</td>\n",
       "      <td>90 min</td>\n",
       "      <td>Drama, Musical</td>\n",
       "      <td>NaN</td>\n",
       "      <td>NaN</td>\n",
       "      <td>Soumyajit Majumdar</td>\n",
       "      <td>Sayani Gupta</td>\n",
       "      <td>Plabita Borthakur</td>\n",
       "      <td>Roy Angana</td>\n",
       "    </tr>\n",
       "    <tr>\n",
       "      <th>3</th>\n",
       "      <td>#Yaaram</td>\n",
       "      <td>(2019)</td>\n",
       "      <td>110 min</td>\n",
       "      <td>Comedy, Romance</td>\n",
       "      <td>4.4</td>\n",
       "      <td>35</td>\n",
       "      <td>Ovais Khan</td>\n",
       "      <td>Prateik</td>\n",
       "      <td>Ishita Raj</td>\n",
       "      <td>Siddhant Kapoor</td>\n",
       "    </tr>\n",
       "    <tr>\n",
       "      <th>4</th>\n",
       "      <td>...And Once Again</td>\n",
       "      <td>(2010)</td>\n",
       "      <td>105 min</td>\n",
       "      <td>Drama</td>\n",
       "      <td>NaN</td>\n",
       "      <td>NaN</td>\n",
       "      <td>Amol Palekar</td>\n",
       "      <td>Rajat Kapoor</td>\n",
       "      <td>Rituparna Sengupta</td>\n",
       "      <td>Antara Mali</td>\n",
       "    </tr>\n",
       "  </tbody>\n",
       "</table>\n",
       "</div>"
      ],
      "text/plain": [
       "                                 Name    Year Duration            Genre  \\\n",
       "0                                         NaN      NaN            Drama   \n",
       "1  #Gadhvi (He thought he was Gandhi)  (2019)  109 min            Drama   \n",
       "2                         #Homecoming  (2021)   90 min   Drama, Musical   \n",
       "3                             #Yaaram  (2019)  110 min  Comedy, Romance   \n",
       "4                   ...And Once Again  (2010)  105 min            Drama   \n",
       "\n",
       "   Rating Votes            Director       Actor 1             Actor 2  \\\n",
       "0     NaN   NaN       J.S. Randhawa      Manmauji              Birbal   \n",
       "1     7.0     8       Gaurav Bakshi  Rasika Dugal      Vivek Ghamande   \n",
       "2     NaN   NaN  Soumyajit Majumdar  Sayani Gupta   Plabita Borthakur   \n",
       "3     4.4    35          Ovais Khan       Prateik          Ishita Raj   \n",
       "4     NaN   NaN        Amol Palekar  Rajat Kapoor  Rituparna Sengupta   \n",
       "\n",
       "           Actor 3  \n",
       "0  Rajendra Bhatia  \n",
       "1    Arvind Jangid  \n",
       "2       Roy Angana  \n",
       "3  Siddhant Kapoor  \n",
       "4      Antara Mali  "
      ]
     },
     "execution_count": 3,
     "metadata": {},
     "output_type": "execute_result"
    }
   ],
   "source": [
    "data.head(5)"
   ]
  },
  {
   "cell_type": "code",
   "execution_count": 4,
   "id": "dae70299",
   "metadata": {},
   "outputs": [
    {
     "data": {
      "text/plain": [
       "Index(['Name', 'Year', 'Duration', 'Genre', 'Rating', 'Votes', 'Director',\n",
       "       'Actor 1', 'Actor 2', 'Actor 3'],\n",
       "      dtype='object')"
      ]
     },
     "execution_count": 4,
     "metadata": {},
     "output_type": "execute_result"
    }
   ],
   "source": [
    "data.columns"
   ]
  },
  {
   "cell_type": "code",
   "execution_count": 5,
   "id": "afff6c86",
   "metadata": {},
   "outputs": [
    {
     "data": {
      "text/plain": [
       "0       NaN\n",
       "1    (2019)\n",
       "2    (2021)\n",
       "3    (2019)\n",
       "4    (2010)\n",
       "Name: Year, dtype: object"
      ]
     },
     "execution_count": 5,
     "metadata": {},
     "output_type": "execute_result"
    }
   ],
   "source": [
    "data[\"Year\"].head(5)"
   ]
  },
  {
   "cell_type": "code",
   "execution_count": 6,
   "id": "7f7348cd",
   "metadata": {},
   "outputs": [
    {
     "data": {
      "text/plain": [
       "0"
      ]
     },
     "execution_count": 6,
     "metadata": {},
     "output_type": "execute_result"
    }
   ],
   "source": [
    "\n",
    "data.Year = data[\"Year\"].apply(lambda value: re.sub(r'\\D',\"\",str(value)))\n",
    "data.Year.isnull().sum()"
   ]
  },
  {
   "cell_type": "code",
   "execution_count": 7,
   "id": "e971d28a",
   "metadata": {},
   "outputs": [
    {
     "data": {
      "text/plain": [
       "0        \n",
       "1    2019\n",
       "2    2021\n",
       "3    2019\n",
       "4    2010\n",
       "Name: Year, dtype: object"
      ]
     },
     "execution_count": 7,
     "metadata": {},
     "output_type": "execute_result"
    }
   ],
   "source": [
    "data.Year.head(5)"
   ]
  },
  {
   "cell_type": "code",
   "execution_count": 8,
   "id": "c0597367",
   "metadata": {},
   "outputs": [],
   "source": [
    "data.Year.fillna(data.Year.mean(),inplace=True)"
   ]
  },
  {
   "cell_type": "code",
   "execution_count": 9,
   "id": "6b03bea7",
   "metadata": {},
   "outputs": [
    {
     "data": {
      "text/plain": [
       "0"
      ]
     },
     "execution_count": 9,
     "metadata": {},
     "output_type": "execute_result"
    }
   ],
   "source": [
    "data.Year.head(5)\n",
    "data.Year.isnull().sum()"
   ]
  },
  {
   "cell_type": "code",
   "execution_count": 10,
   "id": "64dd5372",
   "metadata": {},
   "outputs": [
    {
     "data": {
      "text/plain": [
       "0        NaN\n",
       "1    109 min\n",
       "2     90 min\n",
       "3    110 min\n",
       "4    105 min\n",
       "Name: Duration, dtype: object"
      ]
     },
     "execution_count": 10,
     "metadata": {},
     "output_type": "execute_result"
    }
   ],
   "source": [
    "data.Duration.head()"
   ]
  },
  {
   "cell_type": "code",
   "execution_count": 11,
   "id": "32cc7ac2",
   "metadata": {},
   "outputs": [],
   "source": [
    "data.Duration = data[\"Duration\"].apply(lambda value: re.sub(r'\\D',\"\",str(value)))"
   ]
  },
  {
   "cell_type": "code",
   "execution_count": 12,
   "id": "8aab81f9",
   "metadata": {},
   "outputs": [
    {
     "data": {
      "text/plain": [
       "0"
      ]
     },
     "execution_count": 12,
     "metadata": {},
     "output_type": "execute_result"
    }
   ],
   "source": [
    "data.Duration\n",
    "data.Duration.isna().sum()"
   ]
  },
  {
   "cell_type": "code",
   "execution_count": null,
   "id": "943dd8c9",
   "metadata": {},
   "outputs": [],
   "source": []
  },
  {
   "cell_type": "code",
   "execution_count": 13,
   "id": "e30e7561",
   "metadata": {},
   "outputs": [
    {
     "data": {
      "text/plain": [
       "Index(['Name', 'Year', 'Duration', 'Genre', 'Rating', 'Votes', 'Director',\n",
       "       'Actor 1', 'Actor 2', 'Actor 3'],\n",
       "      dtype='object')"
      ]
     },
     "execution_count": 13,
     "metadata": {},
     "output_type": "execute_result"
    }
   ],
   "source": [
    "data.columns"
   ]
  },
  {
   "cell_type": "code",
   "execution_count": 14,
   "id": "9d24414a",
   "metadata": {},
   "outputs": [
    {
     "data": {
      "text/plain": [
       "7590"
      ]
     },
     "execution_count": 14,
     "metadata": {},
     "output_type": "execute_result"
    }
   ],
   "source": [
    "data.Rating.isnull().sum()"
   ]
  },
  {
   "cell_type": "code",
   "execution_count": 15,
   "id": "356f39f7",
   "metadata": {},
   "outputs": [
    {
     "data": {
      "text/plain": [
       "0    NaN\n",
       "1    7.0\n",
       "2    NaN\n",
       "3    4.4\n",
       "4    NaN\n",
       "Name: Rating, dtype: float64"
      ]
     },
     "execution_count": 15,
     "metadata": {},
     "output_type": "execute_result"
    }
   ],
   "source": [
    "data.Rating.head()"
   ]
  },
  {
   "cell_type": "code",
   "execution_count": 16,
   "id": "b2543cda",
   "metadata": {},
   "outputs": [
    {
     "data": {
      "text/plain": [
       "0    5.84\n",
       "1    7.00\n",
       "2    5.84\n",
       "3    4.40\n",
       "4    5.84\n",
       "Name: Rating, dtype: float64"
      ]
     },
     "execution_count": 16,
     "metadata": {},
     "output_type": "execute_result"
    }
   ],
   "source": [
    "data[\"Rating\"].fillna(round(data.Rating.mean(),2),inplace=True)\n",
    "data.Rating.head(5)"
   ]
  },
  {
   "cell_type": "code",
   "execution_count": 17,
   "id": "6aa3a503",
   "metadata": {},
   "outputs": [
    {
     "data": {
      "text/plain": [
       "0"
      ]
     },
     "execution_count": 17,
     "metadata": {},
     "output_type": "execute_result"
    }
   ],
   "source": [
    "data.Rating.isna().sum()"
   ]
  },
  {
   "cell_type": "code",
   "execution_count": 18,
   "id": "63a4e331",
   "metadata": {},
   "outputs": [
    {
     "data": {
      "text/plain": [
       "7589"
      ]
     },
     "execution_count": 18,
     "metadata": {},
     "output_type": "execute_result"
    }
   ],
   "source": [
    "data.Votes.isna().sum()"
   ]
  },
  {
   "cell_type": "code",
   "execution_count": 19,
   "id": "81dd1b12",
   "metadata": {},
   "outputs": [],
   "source": [
    "data.Votes = pd.to_numeric(data.Votes, errors=\"coerce\")\n",
    "data.Votes = data[\"Votes\"].apply(lambda value: re.sub(r'\\D',\"\",str(value)))\n",
    "data[\"Votes\"].fillna(round(data.Votes.mean(),2),inplace=True)"
   ]
  },
  {
   "cell_type": "code",
   "execution_count": 20,
   "id": "5dab997a",
   "metadata": {},
   "outputs": [
    {
     "data": {
      "text/plain": [
       "0"
      ]
     },
     "execution_count": 20,
     "metadata": {},
     "output_type": "execute_result"
    }
   ],
   "source": [
    "data.Votes.isnull().sum()\n",
    "data.Votes.isna().sum()"
   ]
  },
  {
   "cell_type": "code",
   "execution_count": 21,
   "id": "6f4cd922",
   "metadata": {},
   "outputs": [
    {
     "data": {
      "text/plain": [
       "0   NaN\n",
       "1   NaN\n",
       "2   NaN\n",
       "3   NaN\n",
       "4   NaN\n",
       "Name: Actor 1, dtype: float64"
      ]
     },
     "execution_count": 21,
     "metadata": {},
     "output_type": "execute_result"
    }
   ],
   "source": [
    "data[\"Actor 1\"] = pd.to_numeric(data[\"Actor 1\"],errors='coerce')\n",
    "data[\"Actor 1\"].isna().sum()\n",
    "data[\"Actor 1\"].head()"
   ]
  },
  {
   "cell_type": "code",
   "execution_count": 22,
   "id": "f371c8a4",
   "metadata": {},
   "outputs": [
    {
     "data": {
      "text/plain": [
       "Index(['Name', 'Year', 'Duration', 'Genre', 'Rating', 'Votes', 'Director',\n",
       "       'Actor 1', 'Actor 2', 'Actor 3'],\n",
       "      dtype='object')"
      ]
     },
     "execution_count": 22,
     "metadata": {},
     "output_type": "execute_result"
    }
   ],
   "source": [
    "data.columns\n"
   ]
  },
  {
   "cell_type": "code",
   "execution_count": 23,
   "id": "4a2d257d",
   "metadata": {},
   "outputs": [
    {
     "name": "stdout",
     "output_type": "stream",
     "text": [
      "                                 Name  Year Duration            Genre  Rating  \\\n",
      "0                                                               Drama    5.84   \n",
      "1  #Gadhvi (He thought he was Gandhi)  2019      109            Drama    7.00   \n",
      "2                         #Homecoming  2021       90   Drama, Musical    5.84   \n",
      "3                             #Yaaram  2019      110  Comedy, Romance    4.40   \n",
      "4                   ...And Once Again  2010      105            Drama    5.84   \n",
      "\n",
      "  Votes            Director  Actor 1             Actor 2          Actor 3  \n",
      "0             J.S. Randhawa      NaN              Birbal  Rajendra Bhatia  \n",
      "1    80       Gaurav Bakshi      NaN      Vivek Ghamande    Arvind Jangid  \n",
      "2        Soumyajit Majumdar      NaN   Plabita Borthakur       Roy Angana  \n",
      "3   350          Ovais Khan      NaN          Ishita Raj  Siddhant Kapoor  \n",
      "4              Amol Palekar      NaN  Rituparna Sengupta      Antara Mali  \n"
     ]
    },
    {
     "data": {
      "text/plain": [
       "Name           0\n",
       "Year           0\n",
       "Duration       0\n",
       "Genre       1877\n",
       "Rating         0\n",
       "dtype: int64"
      ]
     },
     "execution_count": 23,
     "metadata": {},
     "output_type": "execute_result"
    }
   ],
   "source": [
    "print(data.head(5))\n",
    "data.isna().sum().head()"
   ]
  },
  {
   "cell_type": "code",
   "execution_count": 24,
   "id": "f0627cb9",
   "metadata": {},
   "outputs": [
    {
     "name": "stdout",
     "output_type": "stream",
     "text": [
      "                                 Name  Year Duration            Genre  Rating  \\\n",
      "0                                                               Drama    5.84   \n",
      "1  #Gadhvi (He thought he was Gandhi)  2019      109            Drama    7.00   \n",
      "2                         #Homecoming  2021       90   Drama, Musical    5.84   \n",
      "3                             #Yaaram  2019      110  Comedy, Romance    4.40   \n",
      "4                   ...And Once Again  2010      105            Drama    5.84   \n",
      "\n",
      "  Votes            Director  Actor 1             Actor 2          Actor 3  \n",
      "0             J.S. Randhawa      NaN              Birbal  Rajendra Bhatia  \n",
      "1    80       Gaurav Bakshi      NaN      Vivek Ghamande    Arvind Jangid  \n",
      "2        Soumyajit Majumdar      NaN   Plabita Borthakur       Roy Angana  \n",
      "3   350          Ovais Khan      NaN          Ishita Raj  Siddhant Kapoor  \n",
      "4              Amol Palekar      NaN  Rituparna Sengupta      Antara Mali  \n"
     ]
    }
   ],
   "source": [
    "print(data.head(5))"
   ]
  },
  {
   "cell_type": "code",
   "execution_count": 25,
   "id": "0e6e3d6c",
   "metadata": {},
   "outputs": [
    {
     "data": {
      "text/plain": [
       "Name           0\n",
       "Year           0\n",
       "Duration       0\n",
       "Genre       1877\n",
       "Rating         0\n",
       "dtype: int64"
      ]
     },
     "execution_count": 25,
     "metadata": {},
     "output_type": "execute_result"
    }
   ],
   "source": [
    "data.isna().sum().head()"
   ]
  },
  {
   "cell_type": "code",
   "execution_count": 26,
   "id": "b592cb4a",
   "metadata": {},
   "outputs": [
    {
     "data": {
      "text/plain": [
       "Name           0\n",
       "Year           0\n",
       "Duration       0\n",
       "Genre       1877\n",
       "Rating         0\n",
       "dtype: int64"
      ]
     },
     "execution_count": 26,
     "metadata": {},
     "output_type": "execute_result"
    }
   ],
   "source": [
    "data.isnull().sum().head()"
   ]
  },
  {
   "cell_type": "code",
   "execution_count": 27,
   "id": "915f57e5",
   "metadata": {},
   "outputs": [
    {
     "data": {
      "text/plain": [
       "<matplotlib.collections.PathCollection at 0x24000b28bd0>"
      ]
     },
     "execution_count": 27,
     "metadata": {},
     "output_type": "execute_result"
    },
    {
     "data": {
      "image/png": "[encoded data removed]",
      "text/plain": [
       "<Figure size 640x480 with 1 Axes>"
      ]
     },
     "metadata": {},
     "output_type": "display_data"
    }
   ],
   "source": [
    "plt.scatter(data.Year, data.Duration)\n"
   ]
  },
  {
   "cell_type": "code",
   "execution_count": 62,
   "id": "70285fae",
   "metadata": {},
   "outputs": [
    {
     "data": {
      "text/plain": [
       "0"
      ]
     },
     "execution_count": 62,
     "metadata": {},
     "output_type": "execute_result"
    }
   ],
   "source": [
    "data.Votes.isnull().sum()"
   ]
  },
  {
   "cell_type": "code",
   "execution_count": 32,
   "id": "f969d1dc",
   "metadata": {},
   "outputs": [],
   "source": [
    "# plt.plot(data[\"Year\"],data[\"Actor1\"])\n",
    "# plt.show()"
   ]
  },
  {
   "cell_type": "code",
   "execution_count": 33,
   "id": "dfe521a1",
   "metadata": {},
   "outputs": [],
   "source": [
    "# plt.plot(data[\"Year\"],data[\"Actor2\"])\n",
    "# plt.show()"
   ]
  },
  {
   "cell_type": "code",
   "execution_count": 34,
   "id": "9692079d",
   "metadata": {},
   "outputs": [],
   "source": [
    "# plt.plot(data[\"Year\"],data[\"Actor3\"])\n",
    "# plt.show()"
   ]
  },
  {
   "cell_type": "code",
   "execution_count": 35,
   "id": "aab16879",
   "metadata": {},
   "outputs": [
    {
     "data": {
      "text/plain": [
       "0"
      ]
     },
     "execution_count": 35,
     "metadata": {},
     "output_type": "execute_result"
    }
   ],
   "source": [
    "data.Genre.isna().sum()\n",
    "data.Genre.isnull().sum()\n",
    "data.Genre.fillna(0,inplace=True)\n",
    "data.Genre.isnull().sum()\n",
    "data.Duration.isna().sum()\n",
    "data.Duration.isnull().sum()\n",
    "data.Year.isnull().sum()\n",
    "data.Year.isna().sum()"
   ]
  },
  {
   "cell_type": "code",
   "execution_count": 36,
   "id": "ffbdecef",
   "metadata": {
    "scrolled": true
   },
   "outputs": [
    {
     "data": {
      "text/plain": [
       "Index(['Name', 'Year', 'Duration', 'Genre', 'Rating', 'Votes', 'Director',\n",
       "       'Actor 1', 'Actor 2', 'Actor 3'],\n",
       "      dtype='object')"
      ]
     },
     "execution_count": 36,
     "metadata": {},
     "output_type": "execute_result"
    }
   ],
   "source": [
    "data.head(5)\n",
    "data.replace(\"\",0,inplace=True)\n",
    "data.head(5)\n",
    "data.columns"
   ]
  },
  {
   "cell_type": "code",
   "execution_count": 37,
   "id": "fab88f8a",
   "metadata": {
    "scrolled": false
   },
   "outputs": [
    {
     "data": {
      "text/plain": [
       "Name            0\n",
       "Year            0\n",
       "Duration        0\n",
       "Genre           0\n",
       "Rating          0\n",
       "Votes           0\n",
       "Director      525\n",
       "Actor 1     15509\n",
       "Actor 2      2384\n",
       "Actor 3      3144\n",
       "dtype: int64"
      ]
     },
     "execution_count": 37,
     "metadata": {},
     "output_type": "execute_result"
    }
   ],
   "source": [
    "data.isna().sum()"
   ]
  },
  {
   "cell_type": "code",
   "execution_count": 38,
   "id": "d87caa7b",
   "metadata": {},
   "outputs": [],
   "source": [
    "encoder1 = LabelEncoder()\n",
    "encoder2 = LabelEncoder()\n",
    "encoder3 = LabelEncoder()\n",
    "encoder4 = LabelEncoder()\n",
    "encoder5 = LabelEncoder()\n",
    "\n",
    "# Encode each column\n",
    "data['Actor1'] = encoder1.fit_transform(data['Actor 1'].astype(str))\n",
    "data['Actor2'] = encoder2.fit_transform(data['Actor 2'].astype(str))\n",
    "data['Actor3'] = encoder3.fit_transform(data['Actor 3'].astype(str))\n",
    "data['Director'] = encoder4.fit_transform(data['Director'].astype(str))\n",
    "data['Genre'] = encoder5.fit_transform(data['Genre'].astype(str))"
   ]
  },
  {
   "cell_type": "code",
   "execution_count": 39,
   "id": "dc64b8af",
   "metadata": {},
   "outputs": [
    {
     "data": {
      "text/plain": [
       "Name            0\n",
       "Year            0\n",
       "Duration        0\n",
       "Genre           0\n",
       "Rating          0\n",
       "Votes           0\n",
       "Director        0\n",
       "Actor 1     15509\n",
       "Actor 2      2384\n",
       "Actor 3      3144\n",
       "Actor1          0\n",
       "Actor2          0\n",
       "Actor3          0\n",
       "dtype: int64"
      ]
     },
     "execution_count": 39,
     "metadata": {},
     "output_type": "execute_result"
    }
   ],
   "source": [
    "data.isna().sum()"
   ]
  },
  {
   "cell_type": "code",
   "execution_count": 40,
   "id": "43ea6f62",
   "metadata": {},
   "outputs": [],
   "source": [
    "data = data.drop(columns=['Actor 1','Actor 2', 'Actor 3'])"
   ]
  },
  {
   "cell_type": "code",
   "execution_count": 41,
   "id": "c8e50c91",
   "metadata": {},
   "outputs": [
    {
     "data": {
      "text/plain": [
       "Name        0\n",
       "Year        0\n",
       "Duration    0\n",
       "Genre       0\n",
       "Rating      0\n",
       "Votes       0\n",
       "Director    0\n",
       "Actor1      0\n",
       "Actor2      0\n",
       "Actor3      0\n",
       "dtype: int64"
      ]
     },
     "execution_count": 41,
     "metadata": {},
     "output_type": "execute_result"
    }
   ],
   "source": [
    "data.isna().sum()"
   ]
  },
  {
   "cell_type": "code",
   "execution_count": 42,
   "id": "4dd6fcb8",
   "metadata": {},
   "outputs": [
    {
     "data": {
      "text/plain": [
       "Index(['Name', 'Year', 'Duration', 'Genre', 'Rating', 'Votes', 'Director',\n",
       "       'Actor1', 'Actor2', 'Actor3'],\n",
       "      dtype='object')"
      ]
     },
     "execution_count": 42,
     "metadata": {},
     "output_type": "execute_result"
    }
   ],
   "source": [
    "data.columns"
   ]
  },
  {
   "cell_type": "code",
   "execution_count": 47,
   "id": "af7c4a4a",
   "metadata": {},
   "outputs": [
    {
     "name": "stdout",
     "output_type": "stream",
     "text": [
      "[5.95078638 6.03959827 5.80517044 5.69852582 5.96960472]\n"
     ]
    },
    {
     "data": {
      "text/plain": [
       "(20,)"
      ]
     },
     "execution_count": 47,
     "metadata": {},
     "output_type": "execute_result"
    }
   ],
   "source": [
    "regressor = LinearRegression()\n",
    "#finalData = data.drop(columns=['Votes', 'Director','Genre','Actor 1','Actor 2','Actor 3'])\n",
    "#finalData = data.drop(columns=['Votes'])\n",
    "\n",
    "#finalData = data['Year', 'Duration', 'Genre', 'Rating', 'Director','Actor1', 'Actor2', 'Actor3']\n",
    "finalData = data[[\"Year\", \"Duration\", \"Votes\",'Director','Genre','Actor1','Actor2','Actor3']]\n",
    "targetData = data[\"Rating\"]\n",
    "\n",
    "XTrain, XTest, YTrain, YTest = train_test_split(finalData,targetData, test_size=20, random_state=42)\n",
    "\n",
    "regressor.fit(XTrain,YTrain)\n",
    "\n",
    "predection = regressor.predict(XTest)\n",
    "\n",
    "\n",
    "print(predection[:5])\n",
    "data.shape\n",
    "\n",
    "YTest.shape\n",
    "predection.shape\n"
   ]
  },
  {
   "cell_type": "code",
   "execution_count": 48,
   "id": "ddad2e6e",
   "metadata": {},
   "outputs": [
    {
     "name": "stdout",
     "output_type": "stream",
     "text": [
      "mean_absolute_error= 0.6051925745156431\n"
     ]
    }
   ],
   "source": [
    "accuracy = mean_absolute_error(YTest, predection)\n",
    "print(\"mean_absolute_error=\",accuracy)"
   ]
  },
  {
   "cell_type": "code",
   "execution_count": null,
   "id": "c82a960b",
   "metadata": {},
   "outputs": [],
   "source": []
  }
 ],
 "metadata": {
  "kernelspec": {
   "display_name": "Python 3 (ipykernel)",
   "language": "python",
   "name": "python3"
  },
  "language_info": {
   "codemirror_mode": {
    "name": "ipython",
    "version": 3
   },
   "file_extension": ".py",
   "mimetype": "text/x-python",
   "name": "python",
   "nbconvert_exporter": "python",
   "pygments_lexer": "ipython3",
   "version": "3.11.4"
  }
 },
 "nbformat": 4,
 "nbformat_minor": 5
}
